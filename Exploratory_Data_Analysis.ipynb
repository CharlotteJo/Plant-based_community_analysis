{
 "cells": [
  {
   "cell_type": "markdown",
   "id": "d4ca725a",
   "metadata": {},
   "source": [
    "<img src = 'https://fontmeme.com/permalink/230519/ef4d612dc25c04a07f0bae2ac2aa445d.png'>"
   ]
  },
  {
   "cell_type": "markdown",
   "id": "f4a79092",
   "metadata": {},
   "source": [
    "<img src = 'https://cdn.pixabay.com/photo/2021/10/30/12/50/woman-6754248_960_720.jpg' >"
   ]
  },
  {
   "cell_type": "markdown",
   "id": "b7eeea8d",
   "metadata": {},
   "source": [
    "**Introduction** <br>\n",
    "This community has been created with the purpose of getting more people interested in a plant-based diet. Every day the chefs are publishing new recipes and the users can reproduce and rate them, while participating to challenges.<br> The goal of this analysis is to understand the users preferences in order to elaborate a strategy aimed at improving the community offer."
   ]
  },
  {
   "cell_type": "markdown",
   "id": "9d3aebc9",
   "metadata": {},
   "source": [
    "In this analysis I will be using the following dataset: https://docs.google.com/spreadsheets/d/10QO-oXIA4l8-3adIz2X5i9WLjGXYT_dt/edit?rtpof=true&sd=true#gid=2054200166 \n",
    "\n",
    "About the data: <br>\n",
    "<code>cooking_date</code> : the date on which the recipe was made by the user <br>\n",
    "<code>user_uuid</code> : a number that identify the user <br>\n",
    "<code>category</code> : the recipe's category <br>\n",
    "<code>chef_id</code> : a number that identify the chef <br>\n",
    "<code>language</code> : the user's language <br>\n",
    "<code>level</code> : the recipe's level <br>\n",
    "<code>challenge_id</code> : a number that identify the challenge <br>\n",
    "<code>country</code> : the user's country <br>\n",
    "<code>subscription_date</code> : the date on which the user become a member of the community <br>\n",
    "<code>platfrom</code> : the platform used to watch the video of the recipe <br>\n",
    "<code>recipe_id</code> : a number that identify the recipe <br>\n",
    "<code>stars</code> : the evaluation given to the recipe from the user."
   ]
  },
  {
   "cell_type": "markdown",
   "id": "fb8d221d",
   "metadata": {},
   "source": [
    "**Importing libraries and loading data**"
   ]
  },
  {
   "cell_type": "code",
   "execution_count": 1,
   "id": "475c9f7a",
   "metadata": {},
   "outputs": [],
   "source": [
    "import pandas as pd\n",
    "import seaborn as sns\n",
    "import matplotlib.pyplot as plt\n",
    "from datetime import datetime"
   ]
  },
  {
   "cell_type": "code",
   "execution_count": 2,
   "id": "4aa04839",
   "metadata": {},
   "outputs": [],
   "source": [
    "file = 'Food_data Final Project.xlsx'\n",
    "\n",
    "df = pd.read_excel(file)"
   ]
  },
  {
   "cell_type": "markdown",
   "id": "77bde4fa",
   "metadata": {},
   "source": [
    "I will create a copy of the dataset that I will call \"wine\" and that I will use for my analysis, in order to keep the original dataset unmodified and correct."
   ]
  },
  {
   "cell_type": "code",
   "execution_count": 3,
   "id": "a6ecbb64",
   "metadata": {},
   "outputs": [],
   "source": [
    "food = df.copy()"
   ]
  },
  {
   "cell_type": "markdown",
   "id": "16510312",
   "metadata": {},
   "source": [
    "**Data exploration**"
   ]
  },
  {
   "cell_type": "code",
   "execution_count": 4,
   "id": "66f1323a",
   "metadata": {},
   "outputs": [
    {
     "data": {
      "text/html": [
       "<div>\n",
       "<style scoped>\n",
       "    .dataframe tbody tr th:only-of-type {\n",
       "        vertical-align: middle;\n",
       "    }\n",
       "\n",
       "    .dataframe tbody tr th {\n",
       "        vertical-align: top;\n",
       "    }\n",
       "\n",
       "    .dataframe thead th {\n",
       "        text-align: right;\n",
       "    }\n",
       "</style>\n",
       "<table border=\"1\" class=\"dataframe\">\n",
       "  <thead>\n",
       "    <tr style=\"text-align: right;\">\n",
       "      <th></th>\n",
       "      <th>cooking_date</th>\n",
       "      <th>user_uuid</th>\n",
       "      <th>category</th>\n",
       "      <th>chef_id</th>\n",
       "      <th>language</th>\n",
       "      <th>level</th>\n",
       "      <th>challenge_id</th>\n",
       "      <th>country</th>\n",
       "      <th>subscription_date</th>\n",
       "      <th>platform</th>\n",
       "      <th>recipe_id</th>\n",
       "      <th>stars</th>\n",
       "    </tr>\n",
       "  </thead>\n",
       "  <tbody>\n",
       "    <tr>\n",
       "      <th>0</th>\n",
       "      <td>2023-02-04</td>\n",
       "      <td>82</td>\n",
       "      <td>smoothie</td>\n",
       "      <td>109</td>\n",
       "      <td>fr</td>\n",
       "      <td>intermediate</td>\n",
       "      <td>1</td>\n",
       "      <td>fr</td>\n",
       "      <td>2022-01-21</td>\n",
       "      <td>pc</td>\n",
       "      <td>1251</td>\n",
       "      <td>1</td>\n",
       "    </tr>\n",
       "    <tr>\n",
       "      <th>1</th>\n",
       "      <td>2023-06-22</td>\n",
       "      <td>123</td>\n",
       "      <td>ethnic</td>\n",
       "      <td>122</td>\n",
       "      <td>fr</td>\n",
       "      <td>advanced</td>\n",
       "      <td>3</td>\n",
       "      <td>fr</td>\n",
       "      <td>2021-09-19</td>\n",
       "      <td>mobile</td>\n",
       "      <td>6347</td>\n",
       "      <td>1</td>\n",
       "    </tr>\n",
       "    <tr>\n",
       "      <th>2</th>\n",
       "      <td>2021-10-08</td>\n",
       "      <td>186</td>\n",
       "      <td>smoothie</td>\n",
       "      <td>105</td>\n",
       "      <td>fr</td>\n",
       "      <td>basic</td>\n",
       "      <td>0</td>\n",
       "      <td>fr</td>\n",
       "      <td>2020-08-12</td>\n",
       "      <td>tv</td>\n",
       "      <td>1152</td>\n",
       "      <td>5</td>\n",
       "    </tr>\n",
       "    <tr>\n",
       "      <th>3</th>\n",
       "      <td>2021-03-04</td>\n",
       "      <td>202</td>\n",
       "      <td>ethnic</td>\n",
       "      <td>118</td>\n",
       "      <td>fr</td>\n",
       "      <td>basic</td>\n",
       "      <td>3</td>\n",
       "      <td>fr</td>\n",
       "      <td>2020-02-04</td>\n",
       "      <td>tv</td>\n",
       "      <td>6140</td>\n",
       "      <td>2</td>\n",
       "    </tr>\n",
       "    <tr>\n",
       "      <th>4</th>\n",
       "      <td>2022-01-18</td>\n",
       "      <td>216</td>\n",
       "      <td>lunch</td>\n",
       "      <td>103</td>\n",
       "      <td>en</td>\n",
       "      <td>intermediate</td>\n",
       "      <td>1</td>\n",
       "      <td>uk</td>\n",
       "      <td>2021-10-08</td>\n",
       "      <td>pc</td>\n",
       "      <td>6248</td>\n",
       "      <td>1</td>\n",
       "    </tr>\n",
       "  </tbody>\n",
       "</table>\n",
       "</div>"
      ],
      "text/plain": [
       "  cooking_date  user_uuid  category  chef_id language         level  \\\n",
       "0   2023-02-04         82  smoothie      109       fr  intermediate   \n",
       "1   2023-06-22        123    ethnic      122       fr      advanced   \n",
       "2   2021-10-08        186  smoothie      105       fr         basic   \n",
       "3   2021-03-04        202    ethnic      118       fr         basic   \n",
       "4   2022-01-18        216     lunch      103       en  intermediate   \n",
       "\n",
       "   challenge_id country subscription_date platform  recipe_id  stars  \n",
       "0             1      fr        2022-01-21       pc       1251      1  \n",
       "1             3      fr        2021-09-19   mobile       6347      1  \n",
       "2             0      fr        2020-08-12       tv       1152      5  \n",
       "3             3      fr        2020-02-04       tv       6140      2  \n",
       "4             1      uk        2021-10-08       pc       6248      1  "
      ]
     },
     "execution_count": 4,
     "metadata": {},
     "output_type": "execute_result"
    }
   ],
   "source": [
    "food.head()"
   ]
  },
  {
   "cell_type": "code",
   "execution_count": 5,
   "id": "ba29cc24",
   "metadata": {},
   "outputs": [
    {
     "data": {
      "text/plain": [
       "(999, 12)"
      ]
     },
     "execution_count": 5,
     "metadata": {},
     "output_type": "execute_result"
    }
   ],
   "source": [
    "food.shape"
   ]
  },
  {
   "cell_type": "code",
   "execution_count": 6,
   "id": "1c8812e5",
   "metadata": {},
   "outputs": [
    {
     "name": "stdout",
     "output_type": "stream",
     "text": [
      "<class 'pandas.core.frame.DataFrame'>\n",
      "RangeIndex: 999 entries, 0 to 998\n",
      "Data columns (total 12 columns):\n",
      " #   Column             Non-Null Count  Dtype         \n",
      "---  ------             --------------  -----         \n",
      " 0   cooking_date       999 non-null    datetime64[ns]\n",
      " 1   user_uuid          999 non-null    int64         \n",
      " 2   category           999 non-null    object        \n",
      " 3   chef_id            999 non-null    int64         \n",
      " 4   language           999 non-null    object        \n",
      " 5   level              999 non-null    object        \n",
      " 6   challenge_id       999 non-null    int64         \n",
      " 7   country            999 non-null    object        \n",
      " 8   subscription_date  999 non-null    datetime64[ns]\n",
      " 9   platform           999 non-null    object        \n",
      " 10  recipe_id          999 non-null    int64         \n",
      " 11  stars              999 non-null    int64         \n",
      "dtypes: datetime64[ns](2), int64(5), object(5)\n",
      "memory usage: 93.8+ KB\n"
     ]
    }
   ],
   "source": [
    "food.info()"
   ]
  },
  {
   "cell_type": "code",
   "execution_count": 7,
   "id": "00da703c",
   "metadata": {},
   "outputs": [
    {
     "data": {
      "text/html": [
       "<div>\n",
       "<style scoped>\n",
       "    .dataframe tbody tr th:only-of-type {\n",
       "        vertical-align: middle;\n",
       "    }\n",
       "\n",
       "    .dataframe tbody tr th {\n",
       "        vertical-align: top;\n",
       "    }\n",
       "\n",
       "    .dataframe thead th {\n",
       "        text-align: right;\n",
       "    }\n",
       "</style>\n",
       "<table border=\"1\" class=\"dataframe\">\n",
       "  <thead>\n",
       "    <tr style=\"text-align: right;\">\n",
       "      <th></th>\n",
       "      <th>user_uuid</th>\n",
       "      <th>chef_id</th>\n",
       "      <th>challenge_id</th>\n",
       "      <th>recipe_id</th>\n",
       "      <th>stars</th>\n",
       "    </tr>\n",
       "  </thead>\n",
       "  <tbody>\n",
       "    <tr>\n",
       "      <th>count</th>\n",
       "      <td>999.000000</td>\n",
       "      <td>999.000000</td>\n",
       "      <td>999.000000</td>\n",
       "      <td>999.000000</td>\n",
       "      <td>999.000000</td>\n",
       "    </tr>\n",
       "    <tr>\n",
       "      <th>mean</th>\n",
       "      <td>122.226226</td>\n",
       "      <td>110.891892</td>\n",
       "      <td>1.565566</td>\n",
       "      <td>4402.144144</td>\n",
       "      <td>3.113113</td>\n",
       "    </tr>\n",
       "    <tr>\n",
       "      <th>std</th>\n",
       "      <td>69.593083</td>\n",
       "      <td>6.575622</td>\n",
       "      <td>1.115322</td>\n",
       "      <td>2188.155027</td>\n",
       "      <td>1.437481</td>\n",
       "    </tr>\n",
       "    <tr>\n",
       "      <th>min</th>\n",
       "      <td>1.000000</td>\n",
       "      <td>100.000000</td>\n",
       "      <td>0.000000</td>\n",
       "      <td>111.000000</td>\n",
       "      <td>1.000000</td>\n",
       "    </tr>\n",
       "    <tr>\n",
       "      <th>25%</th>\n",
       "      <td>64.000000</td>\n",
       "      <td>105.000000</td>\n",
       "      <td>1.000000</td>\n",
       "      <td>2286.000000</td>\n",
       "      <td>2.000000</td>\n",
       "    </tr>\n",
       "    <tr>\n",
       "      <th>50%</th>\n",
       "      <td>122.000000</td>\n",
       "      <td>111.000000</td>\n",
       "      <td>2.000000</td>\n",
       "      <td>6116.000000</td>\n",
       "      <td>3.000000</td>\n",
       "    </tr>\n",
       "    <tr>\n",
       "      <th>75%</th>\n",
       "      <td>183.000000</td>\n",
       "      <td>117.000000</td>\n",
       "      <td>3.000000</td>\n",
       "      <td>6287.500000</td>\n",
       "      <td>4.000000</td>\n",
       "    </tr>\n",
       "    <tr>\n",
       "      <th>max</th>\n",
       "      <td>245.000000</td>\n",
       "      <td>122.000000</td>\n",
       "      <td>3.000000</td>\n",
       "      <td>6399.000000</td>\n",
       "      <td>5.000000</td>\n",
       "    </tr>\n",
       "  </tbody>\n",
       "</table>\n",
       "</div>"
      ],
      "text/plain": [
       "        user_uuid     chef_id  challenge_id    recipe_id       stars\n",
       "count  999.000000  999.000000    999.000000   999.000000  999.000000\n",
       "mean   122.226226  110.891892      1.565566  4402.144144    3.113113\n",
       "std     69.593083    6.575622      1.115322  2188.155027    1.437481\n",
       "min      1.000000  100.000000      0.000000   111.000000    1.000000\n",
       "25%     64.000000  105.000000      1.000000  2286.000000    2.000000\n",
       "50%    122.000000  111.000000      2.000000  6116.000000    3.000000\n",
       "75%    183.000000  117.000000      3.000000  6287.500000    4.000000\n",
       "max    245.000000  122.000000      3.000000  6399.000000    5.000000"
      ]
     },
     "execution_count": 7,
     "metadata": {},
     "output_type": "execute_result"
    }
   ],
   "source": [
    "food.describe()"
   ]
  },
  {
   "cell_type": "code",
   "execution_count": 8,
   "id": "22e18960",
   "metadata": {},
   "outputs": [
    {
     "data": {
      "text/plain": [
       "array(['smoothie', 'ethnic', 'lunch', 'breakfast', 'snack', 'dinner',\n",
       "       'vegan'], dtype=object)"
      ]
     },
     "execution_count": 8,
     "metadata": {},
     "output_type": "execute_result"
    }
   ],
   "source": [
    "food.category.unique()"
   ]
  },
  {
   "cell_type": "code",
   "execution_count": 9,
   "id": "30cce2f4",
   "metadata": {},
   "outputs": [
    {
     "data": {
      "text/plain": [
       "array(['fr', 'uk', 'it'], dtype=object)"
      ]
     },
     "execution_count": 9,
     "metadata": {},
     "output_type": "execute_result"
    }
   ],
   "source": [
    "food.country.unique()"
   ]
  },
  {
   "cell_type": "code",
   "execution_count": 10,
   "id": "501cfd5d",
   "metadata": {},
   "outputs": [
    {
     "data": {
      "text/plain": [
       "array(['intermediate', 'advanced', 'basic'], dtype=object)"
      ]
     },
     "execution_count": 10,
     "metadata": {},
     "output_type": "execute_result"
    }
   ],
   "source": [
    "food.level.unique()"
   ]
  },
  {
   "cell_type": "code",
   "execution_count": 11,
   "id": "b693b457",
   "metadata": {},
   "outputs": [
    {
     "data": {
      "text/plain": [
       "array(['pc', 'mobile', 'tv'], dtype=object)"
      ]
     },
     "execution_count": 11,
     "metadata": {},
     "output_type": "execute_result"
    }
   ],
   "source": [
    "food.platform.unique()"
   ]
  },
  {
   "cell_type": "code",
   "execution_count": 12,
   "id": "40790814",
   "metadata": {},
   "outputs": [
    {
     "data": {
      "text/plain": [
       "242"
      ]
     },
     "execution_count": 12,
     "metadata": {},
     "output_type": "execute_result"
    }
   ],
   "source": [
    "food.user_uuid.nunique()"
   ]
  },
  {
   "cell_type": "code",
   "execution_count": 13,
   "id": "6dfbdc0b",
   "metadata": {},
   "outputs": [
    {
     "data": {
      "text/plain": [
       "23"
      ]
     },
     "execution_count": 13,
     "metadata": {},
     "output_type": "execute_result"
    }
   ],
   "source": [
    "food.chef_id.nunique()"
   ]
  },
  {
   "cell_type": "code",
   "execution_count": 14,
   "id": "9b40fca4",
   "metadata": {},
   "outputs": [
    {
     "data": {
      "text/plain": [
       "593"
      ]
     },
     "execution_count": 14,
     "metadata": {},
     "output_type": "execute_result"
    }
   ],
   "source": [
    "food.recipe_id.nunique()"
   ]
  },
  {
   "cell_type": "code",
   "execution_count": 15,
   "id": "cd09bc6d",
   "metadata": {},
   "outputs": [
    {
     "data": {
      "text/plain": [
       "array([1, 3, 0, 2])"
      ]
     },
     "execution_count": 15,
     "metadata": {},
     "output_type": "execute_result"
    }
   ],
   "source": [
    "food.challenge_id.unique()"
   ]
  },
  {
   "cell_type": "code",
   "execution_count": 16,
   "id": "8cedc158",
   "metadata": {},
   "outputs": [
    {
     "data": {
      "text/html": [
       "<svg  width=\"330\" height=\"55\"><rect x=\"0\" y=\"0\" width=\"55\" height=\"55\" style=\"fill:#fac228;stroke-width:2;stroke:rgb(255,255,255)\"/><rect x=\"55\" y=\"0\" width=\"55\" height=\"55\" style=\"fill:#f57d15;stroke-width:2;stroke:rgb(255,255,255)\"/><rect x=\"110\" y=\"0\" width=\"55\" height=\"55\" style=\"fill:#d44842;stroke-width:2;stroke:rgb(255,255,255)\"/><rect x=\"165\" y=\"0\" width=\"55\" height=\"55\" style=\"fill:#9f2a63;stroke-width:2;stroke:rgb(255,255,255)\"/><rect x=\"220\" y=\"0\" width=\"55\" height=\"55\" style=\"fill:#65156e;stroke-width:2;stroke:rgb(255,255,255)\"/><rect x=\"275\" y=\"0\" width=\"55\" height=\"55\" style=\"fill:#280b53;stroke-width:2;stroke:rgb(255,255,255)\"/></svg>"
      ],
      "text/plain": [
       "[(0.981173, 0.759135, 0.156863),\n",
       " (0.961293, 0.488716, 0.084289),\n",
       " (0.832299, 0.283913, 0.257383),\n",
       " (0.621685, 0.164184, 0.388781),\n",
       " (0.397674, 0.083257, 0.433183),\n",
       " (0.15585, 0.044559, 0.325338)]"
      ]
     },
     "execution_count": 16,
     "metadata": {},
     "output_type": "execute_result"
    }
   ],
   "source": [
    "sns.color_palette('inferno_r')"
   ]
  },
  {
   "cell_type": "code",
   "execution_count": 17,
   "id": "504d312a",
   "metadata": {},
   "outputs": [],
   "source": [
    "sns.set_palette(palette = 'inferno_r', n_colors = 7)"
   ]
  },
  {
   "cell_type": "markdown",
   "id": "fd51b8f0",
   "metadata": {},
   "source": [
    "**Data cleaning**"
   ]
  },
  {
   "cell_type": "markdown",
   "id": "1ac3f94f",
   "metadata": {},
   "source": [
    "The data are already clean: no duplicates, no missing values. I will only add the index column to associate a unique number to each record."
   ]
  },
  {
   "cell_type": "code",
   "execution_count": 18,
   "id": "9eb9d62f",
   "metadata": {},
   "outputs": [],
   "source": [
    "food.reset_index(inplace = True)\n",
    "food.rename(columns = {'index':'id'}, inplace = True)"
   ]
  },
  {
   "cell_type": "markdown",
   "id": "6990afad",
   "metadata": {},
   "source": [
    "**ANALYSIS**"
   ]
  },
  {
   "cell_type": "markdown",
   "id": "25af8daa",
   "metadata": {},
   "source": [
    "I would like to structure the analysis in 5 different sections where each of them correspond to some characteristics of the recipes or the users."
   ]
  },
  {
   "cell_type": "markdown",
   "id": "0770e807",
   "metadata": {},
   "source": [
    "**Table of contents:**\n",
    "\n",
    "**1. Recipe's category\n",
    "<br>2. User's country\n",
    "<br>3. Recipe's level\n",
    "<br>4. Chef & challenge & platform\n",
    "<br>5. Time evolution**"
   ]
  },
  {
   "cell_type": "markdown",
   "id": "893443dc",
   "metadata": {},
   "source": [
    "**1. Recipes' category** <br> "
   ]
  },
  {
   "cell_type": "markdown",
   "id": "38963873",
   "metadata": {},
   "source": [
    "The first section will give us an overview about which categories are more popular and which ones are the most loved and I will try to find an explanation about the users' preferences."
   ]
  },
  {
   "cell_type": "markdown",
   "id": "ba8ae014",
   "metadata": {},
   "source": [
    "Let's start by see which categories are the most popular."
   ]
  },
  {
   "cell_type": "code",
   "execution_count": 19,
   "id": "44c78f99",
   "metadata": {},
   "outputs": [
    {
     "data": {
      "image/png": "[encoded data removed]",
      "text/plain": [
       "<Figure size 576x360 with 1 Axes>"
      ]
     },
     "metadata": {
      "needs_background": "light"
     },
     "output_type": "display_data"
    }
   ],
   "source": [
    "plt.figure(figsize=(8,5))\n",
    "sns.countplot(data = food, x = 'category', order = food.category.value_counts().index)\n",
    "plt.title('Number of recipe by category')\n",
    "plt.show()"
   ]
  },
  {
   "cell_type": "code",
   "execution_count": 20,
   "id": "116ee50a",
   "metadata": {},
   "outputs": [
    {
     "data": {
      "text/plain": [
       "ethnic       0.349349\n",
       "breakfast    0.171171\n",
       "lunch        0.146146\n",
       "dinner       0.109109\n",
       "snack        0.077077\n",
       "vegan        0.075075\n",
       "smoothie     0.072072\n",
       "Name: category, dtype: float64"
      ]
     },
     "execution_count": 20,
     "metadata": {},
     "output_type": "execute_result"
    }
   ],
   "source": [
    "food.category.value_counts(normalize = True)"
   ]
  },
  {
   "cell_type": "markdown",
   "id": "0407da1c",
   "metadata": {},
   "source": [
    "Ethnic recipes are the most popular ones, they represent 35% of all the posted recipes. Users tend to reproduce also a lot of breakfast and lunch recipes, while the smoothies are the less popular. <br> I suppose that the users like to try new recipes and taste flavours that are not typical in their countries."
   ]
  },
  {
   "cell_type": "markdown",
   "id": "e0127d11",
   "metadata": {},
   "source": [
    "Now I want to know to which categories belong the best recipes, the ones that received 5 stars."
   ]
  },
  {
   "cell_type": "code",
   "execution_count": 21,
   "id": "39e46c97",
   "metadata": {},
   "outputs": [],
   "source": [
    "best = food[food.stars==5]"
   ]
  },
  {
   "cell_type": "code",
   "execution_count": 22,
   "id": "20ae467d",
   "metadata": {},
   "outputs": [
    {
     "data": {
      "image/png": "[encoded data removed]",
      "text/plain": [
       "<Figure size 576x360 with 1 Axes>"
      ]
     },
     "metadata": {
      "needs_background": "light"
     },
     "output_type": "display_data"
    }
   ],
   "source": [
    "plt.figure(figsize=(8,5))\n",
    "sns.countplot(data = best, x = 'category', order = best.category.value_counts().index)\n",
    "plt.title('Top recipes by category')\n",
    "plt.show()"
   ]
  },
  {
   "cell_type": "markdown",
   "id": "6567f1a2",
   "metadata": {},
   "source": [
    "Again, ethnic recipes are the most loved ones, in fact it is the category with the highest number of recipes that received 5 stars. We find dinner at the last place, maybe because the users tend to have different preferences when it comes to dinner."
   ]
  },
  {
   "cell_type": "code",
   "execution_count": 23,
   "id": "5eda5488",
   "metadata": {},
   "outputs": [
    {
     "data": {
      "image/png": "[encoded data removed]",
      "text/plain": [
       "<Figure size 576x360 with 1 Axes>"
      ]
     },
     "metadata": {
      "needs_background": "light"
     },
     "output_type": "display_data"
    }
   ],
   "source": [
    "plt.figure(figsize=(8,5))\n",
    "sns.countplot(data = food, x = 'category', hue = 'stars')\n",
    "plt.title(\"Distribution of recipe's score in each category\")\n",
    "plt.show()"
   ]
  },
  {
   "cell_type": "markdown",
   "id": "75115882",
   "metadata": {},
   "source": [
    "Usually every category got good reviews, in fact the recipes tend to receive the highest score more often than a lower number of stars. However there are some exceptions: the breakfast recipes got a high number of 1 star and dinner recipes are often evaluated with 2 stars. <br>\n",
    "The ethnic category is the one that received the highest number of 5 stars, but it's also the category that the users tend to choose the most. I want then to analyse the relative data: in proportion of the total number of recipes replicated in each category, which one received more often the highest score?"
   ]
  },
  {
   "cell_type": "code",
   "execution_count": 24,
   "id": "61c2127e",
   "metadata": {},
   "outputs": [
    {
     "data": {
      "text/html": [
       "<div>\n",
       "<style scoped>\n",
       "    .dataframe tbody tr th:only-of-type {\n",
       "        vertical-align: middle;\n",
       "    }\n",
       "\n",
       "    .dataframe tbody tr th {\n",
       "        vertical-align: top;\n",
       "    }\n",
       "\n",
       "    .dataframe thead th {\n",
       "        text-align: right;\n",
       "    }\n",
       "</style>\n",
       "<table border=\"1\" class=\"dataframe\">\n",
       "  <thead>\n",
       "    <tr style=\"text-align: right;\">\n",
       "      <th></th>\n",
       "      <th>category</th>\n",
       "      <th>total</th>\n",
       "    </tr>\n",
       "  </thead>\n",
       "  <tbody>\n",
       "    <tr>\n",
       "      <th>0</th>\n",
       "      <td>ethnic</td>\n",
       "      <td>349</td>\n",
       "    </tr>\n",
       "    <tr>\n",
       "      <th>1</th>\n",
       "      <td>breakfast</td>\n",
       "      <td>171</td>\n",
       "    </tr>\n",
       "    <tr>\n",
       "      <th>2</th>\n",
       "      <td>lunch</td>\n",
       "      <td>146</td>\n",
       "    </tr>\n",
       "    <tr>\n",
       "      <th>3</th>\n",
       "      <td>dinner</td>\n",
       "      <td>109</td>\n",
       "    </tr>\n",
       "    <tr>\n",
       "      <th>4</th>\n",
       "      <td>snack</td>\n",
       "      <td>77</td>\n",
       "    </tr>\n",
       "    <tr>\n",
       "      <th>5</th>\n",
       "      <td>vegan</td>\n",
       "      <td>75</td>\n",
       "    </tr>\n",
       "    <tr>\n",
       "      <th>6</th>\n",
       "      <td>smoothie</td>\n",
       "      <td>72</td>\n",
       "    </tr>\n",
       "  </tbody>\n",
       "</table>\n",
       "</div>"
      ],
      "text/plain": [
       "    category  total\n",
       "0     ethnic    349\n",
       "1  breakfast    171\n",
       "2      lunch    146\n",
       "3     dinner    109\n",
       "4      snack     77\n",
       "5      vegan     75\n",
       "6   smoothie     72"
      ]
     },
     "execution_count": 24,
     "metadata": {},
     "output_type": "execute_result"
    }
   ],
   "source": [
    "cat = food.category.value_counts().reset_index()\n",
    "cat = cat.rename(columns={'category':'total', 'index':'category'})\n",
    "cat"
   ]
  },
  {
   "cell_type": "code",
   "execution_count": 25,
   "id": "ee6b6cd7",
   "metadata": {},
   "outputs": [],
   "source": [
    "test = food[['category','stars']].value_counts().reset_index()\n",
    "test = test.merge(cat, how = 'left', on = 'category')\n",
    "test['rate'] = 100*(test[0]/test.total)\n",
    "\n",
    "cat_rate = test.pivot('category','stars','rate')"
   ]
  },
  {
   "cell_type": "code",
   "execution_count": 26,
   "id": "28355a87",
   "metadata": {},
   "outputs": [
    {
     "data": {
      "image/png": "[encoded data removed]",
      "text/plain": [
       "<Figure size 576x360 with 2 Axes>"
      ]
     },
     "metadata": {
      "needs_background": "light"
     },
     "output_type": "display_data"
    }
   ],
   "source": [
    "plt.figure(figsize=(8,5))\n",
    "sns.heatmap(cat_rate, cmap = 'inferno_r')\n",
    "plt.title('Number of stars by category in proportion to the number of recipes')\n",
    "plt.show()"
   ]
  },
  {
   "cell_type": "markdown",
   "id": "ca350955",
   "metadata": {},
   "source": [
    "We can see now that the categories with a high pourcentage of 5 stars are vegan and smoothie recipes. However vegan recipes also got a high number of 2 stars. We confirmed that breakfast and dinner respectively got a big pourcentage of 1 and 2 stars. <br> On the other hand ethnic, lunch and smoothie recipes mostly received the higest score, these categories then have recipes that the users tend to like the most."
   ]
  },
  {
   "cell_type": "markdown",
   "id": "6eebd97c",
   "metadata": {},
   "source": [
    "**2. User's country**"
   ]
  },
  {
   "cell_type": "markdown",
   "id": "2ee51ed4",
   "metadata": {},
   "source": [
    "I wonder if the fact that breakfast, dinner and vegan recipes often are not appreciated  is due to cultural habits. <br> Let's see where the users are from:"
   ]
  },
  {
   "cell_type": "code",
   "execution_count": 27,
   "id": "e1414918",
   "metadata": {},
   "outputs": [
    {
     "data": {
      "image/png": "[encoded data removed]",
      "text/plain": [
       "<Figure size 576x360 with 1 Axes>"
      ]
     },
     "metadata": {
      "needs_background": "light"
     },
     "output_type": "display_data"
    }
   ],
   "source": [
    "test = food.country.value_counts(normalize = True)\n",
    "plt.figure(figsize=(8,5))\n",
    "sns.barplot(x = test.index, y = test.values)\n",
    "plt.title('Country of the users')\n",
    "plt.show()"
   ]
  },
  {
   "cell_type": "markdown",
   "id": "8f8a2c32",
   "metadata": {},
   "source": [
    "Only 3 nationalities are represented in the community. <br>\n",
    "The majority of the users are from Italy, then we have more than 30% from the UK and the others come from France. <br>\n",
    "It is true that, while the gastronomy of Italy and France are similar in many ways, as they both are mediterranean countries, UK's typical cuisine is pretty different."
   ]
  },
  {
   "cell_type": "markdown",
   "id": "814b8be1",
   "metadata": {},
   "source": [
    "What kind of food do they tend to prepare in each country?"
   ]
  },
  {
   "cell_type": "code",
   "execution_count": 28,
   "id": "5515cdc5",
   "metadata": {},
   "outputs": [
    {
     "data": {
      "image/png": "[encoded data removed]",
      "text/plain": [
       "<Figure size 576x360 with 1 Axes>"
      ]
     },
     "metadata": {
      "needs_background": "light"
     },
     "output_type": "display_data"
    }
   ],
   "source": [
    "plt.figure(figsize=(8,5))\n",
    "sns.countplot(data = food, x = 'category', hue = 'country')\n",
    "plt.title(\"Distribution of the recipes' category in each country\")\n",
    "plt.show()"
   ]
  },
  {
   "cell_type": "markdown",
   "id": "fc58eb19",
   "metadata": {},
   "source": [
    "Again, ethnic category is the most popular and the italians are the most active users in each category, except for the vegan food. In fact vegan recipes are made mostly in the UK, english people are probably more interested in a diet without any animal products than the others."
   ]
  },
  {
   "cell_type": "markdown",
   "id": "10fbe8e4",
   "metadata": {},
   "source": [
    "**3. Recipes' level**"
   ]
  },
  {
   "cell_type": "markdown",
   "id": "e10c11cb",
   "metadata": {},
   "source": [
    "Now I want to know if the difficulty of the recipe affect the choice of the users when they have to decide the recipe to pick."
   ]
  },
  {
   "cell_type": "markdown",
   "id": "b25a2c82",
   "metadata": {},
   "source": [
    "Do the users tend to reproduce easy recipes or the difficult ones?"
   ]
  },
  {
   "cell_type": "code",
   "execution_count": 29,
   "id": "ac9cf9ee",
   "metadata": {},
   "outputs": [
    {
     "data": {
      "image/png": "[encoded data removed]",
      "text/plain": [
       "<Figure size 576x360 with 1 Axes>"
      ]
     },
     "metadata": {
      "needs_background": "light"
     },
     "output_type": "display_data"
    }
   ],
   "source": [
    "test = food.level.value_counts(normalize = True)\n",
    "plt.figure(figsize=(8,5))\n",
    "sns.barplot(x = test.index, y = test.values)\n",
    "plt.title(\"Level of the recipes\")\n",
    "plt.show()"
   ]
  },
  {
   "cell_type": "markdown",
   "id": "fca69d0c",
   "metadata": {},
   "source": [
    "The advanced recipes are more popular, I suppose that the users like challenges."
   ]
  },
  {
   "cell_type": "markdown",
   "id": "fdb49342",
   "metadata": {},
   "source": [
    "Are there differences in the three countries?"
   ]
  },
  {
   "cell_type": "code",
   "execution_count": 30,
   "id": "df34f9de",
   "metadata": {},
   "outputs": [
    {
     "data": {
      "image/png": "[encoded data removed]",
      "text/plain": [
       "<Figure size 576x360 with 1 Axes>"
      ]
     },
     "metadata": {
      "needs_background": "light"
     },
     "output_type": "display_data"
    }
   ],
   "source": [
    "plt.figure(figsize=(8,5))\n",
    "sns.countplot(data = food, x = 'level', hue = 'country',\n",
    "                              order = food.level.value_counts().index)\n",
    "plt.title('Distribution of the level in each country')\n",
    "plt.show()"
   ]
  },
  {
   "cell_type": "markdown",
   "id": "320eddb7",
   "metadata": {},
   "source": [
    "Is one category more difficult than the others?"
   ]
  },
  {
   "cell_type": "code",
   "execution_count": 31,
   "id": "d33a34fa",
   "metadata": {},
   "outputs": [
    {
     "data": {
      "image/png": "[encoded data removed]",
      "text/plain": [
       "<Figure size 576x360 with 1 Axes>"
      ]
     },
     "metadata": {
      "needs_background": "light"
     },
     "output_type": "display_data"
    }
   ],
   "source": [
    "plt.figure(figsize=(8,5))\n",
    "sns.countplot(data = food, x = 'category', hue = 'level')\n",
    "plt.title('Distribution of the level by category')\n",
    "plt.show()"
   ]
  },
  {
   "cell_type": "markdown",
   "id": "f85c7cb2",
   "metadata": {},
   "source": [
    "Smoothie category has almost the same amounts of easy and difficult recipes while all the other categories have a majority of advanced recipes."
   ]
  },
  {
   "cell_type": "markdown",
   "id": "39058c23",
   "metadata": {},
   "source": [
    "I wonder if there is a correlation between the level of a recipe and the number of stars received"
   ]
  },
  {
   "cell_type": "code",
   "execution_count": 32,
   "id": "ce23773c",
   "metadata": {},
   "outputs": [
    {
     "data": {
      "text/html": [
       "<div>\n",
       "<style scoped>\n",
       "    .dataframe tbody tr th:only-of-type {\n",
       "        vertical-align: middle;\n",
       "    }\n",
       "\n",
       "    .dataframe tbody tr th {\n",
       "        vertical-align: top;\n",
       "    }\n",
       "\n",
       "    .dataframe thead th {\n",
       "        text-align: right;\n",
       "    }\n",
       "</style>\n",
       "<table border=\"1\" class=\"dataframe\">\n",
       "  <thead>\n",
       "    <tr style=\"text-align: right;\">\n",
       "      <th></th>\n",
       "      <th>level</th>\n",
       "      <th>nlevel</th>\n",
       "    </tr>\n",
       "  </thead>\n",
       "  <tbody>\n",
       "    <tr>\n",
       "      <th>0</th>\n",
       "      <td>basic</td>\n",
       "      <td>0</td>\n",
       "    </tr>\n",
       "    <tr>\n",
       "      <th>1</th>\n",
       "      <td>intermediate</td>\n",
       "      <td>1</td>\n",
       "    </tr>\n",
       "    <tr>\n",
       "      <th>2</th>\n",
       "      <td>advanced</td>\n",
       "      <td>2</td>\n",
       "    </tr>\n",
       "  </tbody>\n",
       "</table>\n",
       "</div>"
      ],
      "text/plain": [
       "          level  nlevel\n",
       "0         basic       0\n",
       "1  intermediate       1\n",
       "2      advanced       2"
      ]
     },
     "execution_count": 32,
     "metadata": {},
     "output_type": "execute_result"
    }
   ],
   "source": [
    "data = [['basic', 0], ['intermediate', 1], ['advanced', 2]]\n",
    "df = pd.DataFrame(data, columns = ['level', 'nlevel'])\n",
    "df"
   ]
  },
  {
   "cell_type": "code",
   "execution_count": 33,
   "id": "5613088f",
   "metadata": {},
   "outputs": [],
   "source": [
    "food = food.merge(df, how = 'left', on = 'level')"
   ]
  },
  {
   "cell_type": "code",
   "execution_count": 34,
   "id": "8571ac3b",
   "metadata": {},
   "outputs": [
    {
     "data": {
      "image/png": "[encoded data removed]",
      "text/plain": [
       "<Figure size 576x360 with 1 Axes>"
      ]
     },
     "metadata": {
      "needs_background": "light"
     },
     "output_type": "display_data"
    }
   ],
   "source": [
    "plt.figure(figsize=(8,5))\n",
    "sns.boxplot(data = food, x ='nlevel', y = 'stars')\n",
    "plt.title('Correlation between level and score')\n",
    "plt.show()"
   ]
  },
  {
   "cell_type": "markdown",
   "id": "14b77891",
   "metadata": {},
   "source": [
    "The recipes of each level has received 3 stars on average, but the most difficult ones generally gained more often the highest evaluation."
   ]
  },
  {
   "cell_type": "markdown",
   "id": "19295544",
   "metadata": {},
   "source": [
    "**4. Chef, challenge & platform**"
   ]
  },
  {
   "cell_type": "markdown",
   "id": "cbc44d93",
   "metadata": {},
   "source": [
    "Who are the chefs whith the highest number of stars?"
   ]
  },
  {
   "cell_type": "code",
   "execution_count": 35,
   "id": "bbd53986",
   "metadata": {},
   "outputs": [
    {
     "data": {
      "text/plain": [
       "chef_id\n",
       "105    188\n",
       "100    171\n",
       "114    157\n",
       "120    156\n",
       "109    152\n",
       "118    150\n",
       "104    149\n",
       "106    141\n",
       "108    140\n",
       "102    138\n",
       "Name: stars, dtype: int64"
      ]
     },
     "execution_count": 35,
     "metadata": {},
     "output_type": "execute_result"
    }
   ],
   "source": [
    "top10_chef = food.groupby('chef_id').stars.sum().sort_values(ascending=False).head(10)\n",
    "\n",
    "top10_chef"
   ]
  },
  {
   "cell_type": "markdown",
   "id": "d462c489",
   "metadata": {},
   "source": [
    "Who are the chefs that often created difficult recipes?"
   ]
  },
  {
   "cell_type": "code",
   "execution_count": 36,
   "id": "406ac456",
   "metadata": {},
   "outputs": [
    {
     "data": {
      "text/plain": [
       "chef_id\n",
       "105    81\n",
       "118    72\n",
       "100    60\n",
       "120    53\n",
       "112    51\n",
       "109    49\n",
       "122    49\n",
       "106    49\n",
       "108    47\n",
       "110    47\n",
       "114    47\n",
       "103    47\n",
       "102    46\n",
       "104    45\n",
       "113    45\n",
       "111    44\n",
       "119    42\n",
       "121    41\n",
       "117    40\n",
       "116    38\n",
       "101    37\n",
       "115    37\n",
       "107    34\n",
       "Name: nlevel, dtype: int64"
      ]
     },
     "execution_count": 36,
     "metadata": {},
     "output_type": "execute_result"
    }
   ],
   "source": [
    "food.groupby('chef_id').nlevel.sum().sort_values(ascending=False)"
   ]
  },
  {
   "cell_type": "markdown",
   "id": "67b9be12",
   "metadata": {},
   "source": [
    "Which challenge is the most popular?"
   ]
  },
  {
   "cell_type": "code",
   "execution_count": 37,
   "id": "8a4a54ea",
   "metadata": {},
   "outputs": [
    {
     "data": {
      "image/png": "[encoded data removed]",
      "text/plain": [
       "<Figure size 576x360 with 1 Axes>"
      ]
     },
     "metadata": {
      "needs_background": "light"
     },
     "output_type": "display_data"
    }
   ],
   "source": [
    "test = food.challenge_id.value_counts(normalize = True)\n",
    "plt.figure(figsize=(8,5))\n",
    "sns.barplot(x = test.index, y = test.values, order = test.index)\n",
    "plt.title(\"Distribution of challenge\")\n",
    "plt.show()"
   ]
  },
  {
   "cell_type": "markdown",
   "id": "5081426e",
   "metadata": {},
   "source": [
    "Challenge number 3 is the most popular one."
   ]
  },
  {
   "cell_type": "markdown",
   "id": "ca108166",
   "metadata": {},
   "source": [
    "Which recipes' categories belong to the different challenges?"
   ]
  },
  {
   "cell_type": "code",
   "execution_count": 38,
   "id": "776292f7",
   "metadata": {},
   "outputs": [
    {
     "data": {
      "image/png": "[encoded data removed]",
      "text/plain": [
       "<Figure size 720x360 with 1 Axes>"
      ]
     },
     "metadata": {
      "needs_background": "light"
     },
     "output_type": "display_data"
    }
   ],
   "source": [
    "plt.figure(figsize = (10,5))\n",
    "sns.countplot(data = food, x = 'challenge_id', hue = 'category')\n",
    "plt.title(\"Distribution of challenge by category\")\n",
    "plt.show()"
   ]
  },
  {
   "cell_type": "markdown",
   "id": "425a7ab3",
   "metadata": {},
   "source": [
    "In each challenge there are recipes from every category, every user can then find interesting options in every challenge."
   ]
  },
  {
   "cell_type": "markdown",
   "id": "fd73023c",
   "metadata": {},
   "source": [
    "Which platform do the users prefer to use?"
   ]
  },
  {
   "cell_type": "code",
   "execution_count": 39,
   "id": "11270227",
   "metadata": {},
   "outputs": [
    {
     "data": {
      "text/plain": [
       "tv        450\n",
       "pc        309\n",
       "mobile    240\n",
       "Name: platform, dtype: int64"
      ]
     },
     "execution_count": 39,
     "metadata": {},
     "output_type": "execute_result"
    }
   ],
   "source": [
    "food.platform.value_counts()"
   ]
  },
  {
   "cell_type": "code",
   "execution_count": 40,
   "id": "65cf971e",
   "metadata": {},
   "outputs": [
    {
     "data": {
      "image/png": "[encoded data removed]",
      "text/plain": [
       "<Figure size 576x360 with 1 Axes>"
      ]
     },
     "metadata": {
      "needs_background": "light"
     },
     "output_type": "display_data"
    }
   ],
   "source": [
    "test = food.platform.value_counts(normalize = True)\n",
    "plt.figure(figsize=(8,5))\n",
    "sns.barplot(x = test.index, y = test.values)\n",
    "plt.title('Pourcentage of th platform used')\n",
    "plt.show()"
   ]
  },
  {
   "cell_type": "markdown",
   "id": "e85dfb63",
   "metadata": {},
   "source": [
    "Generally the users tend to watch the recipes on the tv, maybe because it has a bigger screen and usually there is always a tv in the kitchen."
   ]
  },
  {
   "cell_type": "markdown",
   "id": "b5b2838e",
   "metadata": {},
   "source": [
    "**5. Time evolution**"
   ]
  },
  {
   "cell_type": "markdown",
   "id": "17f8fcb8",
   "metadata": {},
   "source": [
    "In the last section I would like to analyze the evolution of the users' activity over the years."
   ]
  },
  {
   "cell_type": "markdown",
   "id": "10b88c10",
   "metadata": {},
   "source": [
    "How many members of the community are there?"
   ]
  },
  {
   "cell_type": "code",
   "execution_count": 41,
   "id": "03f8f0f4",
   "metadata": {},
   "outputs": [
    {
     "data": {
      "text/plain": [
       "count    242.000000\n",
       "mean       4.128099\n",
       "std        2.017588\n",
       "min        1.000000\n",
       "25%        3.000000\n",
       "50%        4.000000\n",
       "75%        6.000000\n",
       "max       11.000000\n",
       "Name: id, dtype: float64"
      ]
     },
     "execution_count": 41,
     "metadata": {},
     "output_type": "execute_result"
    }
   ],
   "source": [
    "active_user = food.groupby('user_uuid').count().sort_values(\n",
    "                by = 'cooking_date', ascending = False)\n",
    "active_user.id.describe()"
   ]
  },
  {
   "cell_type": "markdown",
   "id": "c73b708b",
   "metadata": {},
   "source": [
    "There are 242 users in total. On average they prepare 4.1 recipes, but the most active user has prepared 11."
   ]
  },
  {
   "cell_type": "markdown",
   "id": "920f0cdf",
   "metadata": {},
   "source": [
    "When did they subscribe?"
   ]
  },
  {
   "cell_type": "code",
   "execution_count": 42,
   "id": "45a7803e",
   "metadata": {},
   "outputs": [],
   "source": [
    "food['year_sub'] = food['subscription_date'].dt.year"
   ]
  },
  {
   "cell_type": "code",
   "execution_count": 43,
   "id": "835da87c",
   "metadata": {},
   "outputs": [
    {
     "data": {
      "image/png": "[encoded data removed]",
      "text/plain": [
       "<Figure size 576x360 with 1 Axes>"
      ]
     },
     "metadata": {
      "needs_background": "light"
     },
     "output_type": "display_data"
    }
   ],
   "source": [
    "count = food[['user_uuid','year_sub']].value_counts().reset_index()\n",
    "\n",
    "plt.figure(figsize=(8,5))\n",
    "sns.countplot(data = count, x = 'year_sub')\n",
    "plt.title('Number of subscriptions per year')\n",
    "plt.show()"
   ]
  },
  {
   "cell_type": "markdown",
   "id": "f81dd20e",
   "metadata": {},
   "source": [
    "2021 has been characterized by the highest number of subscritpions, more than 80 new people joined the community that year."
   ]
  },
  {
   "cell_type": "markdown",
   "id": "372a9fb5",
   "metadata": {},
   "source": [
    "I wonder if the activity of the users changed over the years."
   ]
  },
  {
   "cell_type": "code",
   "execution_count": 44,
   "id": "4d932651",
   "metadata": {},
   "outputs": [
    {
     "data": {
      "image/png": "[encoded data removed]",
      "text/plain": [
       "<Figure size 1080x360 with 1 Axes>"
      ]
     },
     "metadata": {
      "needs_background": "light"
     },
     "output_type": "display_data"
    }
   ],
   "source": [
    "test = food.groupby('cooking_date').id.count().to_frame()\n",
    "cook_date = test['id'].rolling(30, min_periods = 1, center = True).mean().to_frame()\n",
    "\n",
    "plt.figure(figsize = (15,5))\n",
    "plt.plot(cook_date, color = '#580F41')\n",
    "plt.title('Average number of recipes replicated')\n",
    "plt.show()"
   ]
  },
  {
   "cell_type": "markdown",
   "id": "b7253dbe",
   "metadata": {},
   "source": [
    "The activity increased over time, which is pretty positive. However the fact that the number of replicated recipes is higher now than when the community was born could also be due to the fact that each year new people joined the community."
   ]
  },
  {
   "cell_type": "markdown",
   "id": "47aa34df",
   "metadata": {},
   "source": [
    "So my question now is: are the first users still active?"
   ]
  },
  {
   "cell_type": "code",
   "execution_count": 45,
   "id": "915ac2eb",
   "metadata": {},
   "outputs": [],
   "source": [
    "first = food[food['year_sub']<2021]"
   ]
  },
  {
   "cell_type": "code",
   "execution_count": 46,
   "id": "54cdfb2a",
   "metadata": {},
   "outputs": [
    {
     "data": {
      "text/plain": [
       "count    76.000000\n",
       "mean      4.328947\n",
       "std       1.975774\n",
       "min       1.000000\n",
       "25%       3.000000\n",
       "50%       4.000000\n",
       "75%       6.000000\n",
       "max       9.000000\n",
       "Name: id, dtype: float64"
      ]
     },
     "execution_count": 46,
     "metadata": {},
     "output_type": "execute_result"
    }
   ],
   "source": [
    "first.groupby('user_uuid').count().id.describe()"
   ]
  },
  {
   "cell_type": "markdown",
   "id": "3904300e",
   "metadata": {},
   "source": [
    "76 people subscribed to the community in the first year, 2020. They have prepared 4.3 recipes on average."
   ]
  },
  {
   "cell_type": "code",
   "execution_count": 47,
   "id": "ee36c28f",
   "metadata": {},
   "outputs": [
    {
     "data": {
      "image/png": "[encoded data removed]",
      "text/plain": [
       "<Figure size 1080x360 with 1 Axes>"
      ]
     },
     "metadata": {
      "needs_background": "light"
     },
     "output_type": "display_data"
    }
   ],
   "source": [
    "plt.figure(figsize = (15,5))\n",
    "test = first.groupby('cooking_date').id.count().to_frame()\n",
    "f_cook_date = test['id'].rolling(30, min_periods = 1, center = True).mean().to_frame()\n",
    "plt.plot(f_cook_date, color = '#580F41')\n",
    "plt.title('Average number of recipes made by the first users')\n",
    "plt.show()"
   ]
  },
  {
   "cell_type": "markdown",
   "id": "82cc4d21",
   "metadata": {},
   "source": [
    "The users that entered in the community first has continued to make and post the recipes all time long, even though with some periods of a more intense activity."
   ]
  }
 ],
 "metadata": {
  "kernelspec": {
   "display_name": "Python 3",
   "language": "python",
   "name": "python3"
  },
  "language_info": {
   "codemirror_mode": {
    "name": "ipython",
    "version": 3
   },
   "file_extension": ".py",
   "mimetype": "text/x-python",
   "name": "python",
   "nbconvert_exporter": "python",
   "pygments_lexer": "ipython3",
   "version": "3.8.8"
  }
 },
 "nbformat": 4,
 "nbformat_minor": 5
}
